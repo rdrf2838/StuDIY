{
 "cells": [
  {
   "cell_type": "code",
   "execution_count": 1,
   "metadata": {},
   "outputs": [],
   "source": [
    "import numpy as np\n",
    "import pandas as pd\n",
    "import tensorflow as tf\n",
    "from tensorflow import feature_column\n",
    "from tensorflow import keras\n",
    "from tensorflow.keras import layers\n",
    "from matplotlib import pyplot as plt"
   ]
  },
  {
   "cell_type": "code",
   "execution_count": 2,
   "metadata": {},
   "outputs": [],
   "source": [
    "test_data_size=1000\n",
    "test_frac = 0.1\n",
    "input_size = 18\n",
    "output_size = 8"
   ]
  },
  {
   "cell_type": "markdown",
   "metadata": {},
   "source": [
    "input_size: 2 sets of 8 subjects + 2 indicators for activities\n",
    "output_size: 8 subject grades"
   ]
  },
  {
   "cell_type": "code",
   "execution_count": 3,
   "metadata": {},
   "outputs": [],
   "source": [
    "def scoremaker():\n",
    "    #empty scores represent the subjects that the student doesn't take\n",
    "    emptyScores = np.random.randint(low = 0, high = output_size, size=(3))        \n",
    "    \n",
    "    #randomly generate 2 sets of results. For different schools, scale the result accordingly\n",
    "    scores = np.random.randint(low = 50, high = 90, size=(output_size))\n",
    "    scores = scores + np.random.randint(low = -10, high = 10, size=(output_size))\n",
    "    scores2 = np.random.randint(low = 50, high = 90, size=(output_size))\n",
    "    scores2 = scores2 + np.random.randint(low = -10, high = 10, size=(output_size))\n",
    "    \n",
    "    #generate 2 values, 1 for humanities-related activities and one for science activities. More activities = higher score\n",
    "    activities = np.random.randint(low = 0, high = 10, size = (2))\n",
    "    \n",
    "    #generate fake labels for each listing.\n",
    "    scoreLabels = (scores + scores2) / 2\n",
    "    \n",
    "    #add activity score to labels for each subject\n",
    "    for i in range(output_size):\n",
    "        if(i < 4): scoreLabels[i] += activities[0]\n",
    "        else: scoreLabels[i] += activities[1]\n",
    "\n",
    "    scoreLabels = (scoreLabels - 40) / 60\n",
    "    \n",
    "    #make subjects empty\n",
    "    for i in emptyScores:\n",
    "        scores[i] = 0\n",
    "        scores2[i] = 0\n",
    "        scoreLabels[i] = 0\n",
    "        \n",
    "    return np.concatenate((scores, scores2, activities, scoreLabels))"
   ]
  },
  {
   "cell_type": "code",
   "execution_count": 4,
   "metadata": {},
   "outputs": [
    {
     "data": {
      "text/plain": [
       "array([83.        , 64.        , 59.        , 76.        , 52.        ,\n",
       "        0.        ,  0.        , 85.        , 90.        , 78.        ,\n",
       "       54.        , 51.        , 64.        ,  0.        ,  0.        ,\n",
       "       84.        ,  1.        ,  4.        ,  0.79166667,  0.53333333,\n",
       "        0.29166667,  0.40833333,  0.36666667,  0.        ,  0.        ,\n",
       "        0.80833333])"
      ]
     },
     "execution_count": 4,
     "metadata": {},
     "output_type": "execute_result"
    }
   ],
   "source": [
    "scoremaker()"
   ]
  },
  {
   "cell_type": "code",
   "execution_count": 5,
   "metadata": {},
   "outputs": [],
   "source": [
    "my_data = np.array([scoremaker() for i in range(test_data_size)])"
   ]
  },
  {
   "cell_type": "code",
   "execution_count": 6,
   "metadata": {},
   "outputs": [
    {
     "name": "stdout",
     "output_type": "stream",
     "text": [
      "[[59.         80.         90.          0.         87.         78.\n",
      "  64.          0.         65.         77.         49.          0.\n",
      "  69.         75.         81.          0.          2.          3.\n",
      "   0.4         0.675       0.525       0.          0.68333333  0.65833333\n",
      "   0.59166667  0.        ]\n",
      " [69.          0.         59.         91.         85.          0.\n",
      "   0.         52.         88.          0.         62.         76.\n",
      "  76.          0.          0.         54.          7.          3.\n",
      "   0.75833333  0.          0.45833333  0.84166667  0.725       0.\n",
      "   0.          0.26666667]\n",
      " [48.          0.          0.         75.         47.         80.\n",
      "  88.          0.         76.          0.          0.         59.\n",
      "  57.         50.         92.          0.          4.          5.\n",
      "   0.43333333  0.          0.          0.51666667  0.28333333  0.5\n",
      "   0.91666667  0.        ]\n",
      " [ 0.         65.         73.          0.         88.         80.\n",
      "  84.         74.          0.         57.         63.          0.\n",
      "  55.         83.         48.         61.          2.          5.\n",
      "   0.          0.38333333  0.5         0.          0.60833333  0.775\n",
      "   0.51666667  0.54166667]\n",
      " [73.          0.         63.         63.          0.         94.\n",
      "  65.          0.         89.          0.         58.         77.\n",
      "   0.         67.         59.          0.          3.          3.\n",
      "   0.73333333  0.          0.39166667  0.55        0.          0.725\n",
      "   0.41666667  0.        ]\n",
      " [ 0.         70.          0.         64.         86.         79.\n",
      "  63.          0.          0.         45.          0.         46.\n",
      "  71.         86.         73.          0.          9.          0.\n",
      "   0.          0.44166667  0.          0.4         0.64166667  0.70833333\n",
      "   0.46666667  0.        ]\n",
      " [62.         71.         90.         78.          0.          0.\n",
      "  87.          0.         56.         79.         45.         53.\n",
      "   0.          0.         51.          0.          3.          6.\n",
      "   0.36666667  0.63333333  0.50833333  0.475       0.          0.\n",
      "   0.58333333  0.        ]\n",
      " [ 0.         87.          0.          0.         88.         49.\n",
      "  62.         77.          0.         42.          0.          0.\n",
      "  52.         53.         76.         80.          2.          6.\n",
      "   0.          0.44166667  0.          0.          0.6         0.28333333\n",
      "   0.58333333  0.74166667]\n",
      " [71.         43.         70.          0.         52.         53.\n",
      "  66.          0.         82.         57.         60.          0.\n",
      "  89.         67.         87.          0.          1.          4.\n",
      "   0.625       0.18333333  0.43333333  0.          0.575       0.4\n",
      "   0.675       0.        ]\n",
      " [ 0.         82.          0.          0.         81.         73.\n",
      "  87.         71.          0.         71.          0.          0.\n",
      "  45.         66.         71.         53.          9.          6.\n",
      "   0.          0.75833333  0.          0.          0.48333333  0.59166667\n",
      "   0.75        0.46666667]]\n"
     ]
    }
   ],
   "source": [
    "print(my_data[:10])"
   ]
  },
  {
   "cell_type": "code",
   "execution_count": 7,
   "metadata": {},
   "outputs": [],
   "source": [
    "# inputs = keras.Input(shape=(input_size,), name=\"subjects\")\n",
    "# x = layers.Dense(20,activation='relu', name='Hidden1') (inputs)\n",
    "# x = layers.Dense(20,activation='relu', name='Hidden2') (x)\n",
    "# outputs = layers.Dense(output_size, activation=\"relu\", name=\"predictions\")(x)\n",
    "# model = keras.Model(inputs=inputs, outputs=outputs)"
   ]
  },
  {
   "cell_type": "code",
   "execution_count": 8,
   "metadata": {},
   "outputs": [],
   "source": [
    "model = keras.Sequential()\n",
    "model.add(keras.Input(shape=(input_size,), name=\"inputs\"))\n",
    "model.add(layers.Dense(20, activation='relu'))\n",
    "model.add(layers.Dense(output_size, activation=\"relu\", name=\"predictions\"))"
   ]
  },
  {
   "cell_type": "code",
   "execution_count": 9,
   "metadata": {},
   "outputs": [],
   "source": [
    "x_train = my_data[:,:input_size]\n",
    "\n",
    "x_train = (x_train - np.average(x_train, axis = 0))/np.std(x_train, axis = 0)\n",
    "\n",
    "y_train = my_data[:,input_size:]\n",
    "x_val = x_train[(int)((1-test_frac)*test_data_size):]\n",
    "y_val = y_train[(int)((1-test_frac)*test_data_size):]\n",
    "x_train = x_train[:(int)((1-test_frac)*test_data_size)]\n",
    "y_train = y_train[:(int)((1-test_frac)*test_data_size)]"
   ]
  },
  {
   "cell_type": "code",
   "execution_count": 10,
   "metadata": {},
   "outputs": [],
   "source": [
    "model.compile(\n",
    "    optimizer = keras.optimizers.Adam(),\n",
    "    loss = keras.losses.mean_squared_error,\n",
    "    metrics = [keras.metrics.mean_squared_error]\n",
    ")"
   ]
  },
  {
   "cell_type": "code",
   "execution_count": 11,
   "metadata": {},
   "outputs": [
    {
     "name": "stdout",
     "output_type": "stream",
     "text": [
      "Fit model on training data\n",
      "Epoch 1/100\n",
      "15/15 [==============================] - 0s 8ms/step - loss: 0.3584 - mean_squared_error: 0.3584 - val_loss: 0.3237 - val_mean_squared_error: 0.3237\n",
      "Epoch 2/100\n",
      "15/15 [==============================] - 0s 2ms/step - loss: 0.2791 - mean_squared_error: 0.2791 - val_loss: 0.2589 - val_mean_squared_error: 0.2589\n",
      "Epoch 3/100\n",
      "15/15 [==============================] - 0s 1ms/step - loss: 0.2282 - mean_squared_error: 0.2282 - val_loss: 0.2170 - val_mean_squared_error: 0.2170\n",
      "Epoch 4/100\n",
      "15/15 [==============================] - 0s 1ms/step - loss: 0.1946 - mean_squared_error: 0.1946 - val_loss: 0.1874 - val_mean_squared_error: 0.1874\n",
      "Epoch 5/100\n",
      "15/15 [==============================] - 0s 2ms/step - loss: 0.1712 - mean_squared_error: 0.1712 - val_loss: 0.1658 - val_mean_squared_error: 0.1658\n",
      "Epoch 6/100\n",
      "15/15 [==============================] - 0s 1ms/step - loss: 0.1538 - mean_squared_error: 0.1538 - val_loss: 0.1497 - val_mean_squared_error: 0.1497\n",
      "Epoch 7/100\n",
      "15/15 [==============================] - 0s 1ms/step - loss: 0.1395 - mean_squared_error: 0.1395 - val_loss: 0.1368 - val_mean_squared_error: 0.1368\n",
      "Epoch 8/100\n",
      "15/15 [==============================] - 0s 1ms/step - loss: 0.1278 - mean_squared_error: 0.1278 - val_loss: 0.1257 - val_mean_squared_error: 0.1257\n",
      "Epoch 9/100\n",
      "15/15 [==============================] - 0s 1ms/step - loss: 0.1177 - mean_squared_error: 0.1177 - val_loss: 0.1164 - val_mean_squared_error: 0.1164\n",
      "Epoch 10/100\n",
      "15/15 [==============================] - 0s 1ms/step - loss: 0.1088 - mean_squared_error: 0.1088 - val_loss: 0.1066 - val_mean_squared_error: 0.1066\n",
      "Epoch 11/100\n",
      "15/15 [==============================] - 0s 1ms/step - loss: 0.1005 - mean_squared_error: 0.1005 - val_loss: 0.0985 - val_mean_squared_error: 0.0985\n",
      "Epoch 12/100\n",
      "15/15 [==============================] - 0s 1ms/step - loss: 0.0926 - mean_squared_error: 0.0926 - val_loss: 0.0908 - val_mean_squared_error: 0.0908\n",
      "Epoch 13/100\n",
      "15/15 [==============================] - 0s 1ms/step - loss: 0.0846 - mean_squared_error: 0.0846 - val_loss: 0.0831 - val_mean_squared_error: 0.0831\n",
      "Epoch 14/100\n",
      "15/15 [==============================] - 0s 1ms/step - loss: 0.0774 - mean_squared_error: 0.0774 - val_loss: 0.0756 - val_mean_squared_error: 0.0756\n",
      "Epoch 15/100\n",
      "15/15 [==============================] - 0s 1ms/step - loss: 0.0711 - mean_squared_error: 0.0711 - val_loss: 0.0692 - val_mean_squared_error: 0.0692\n",
      "Epoch 16/100\n",
      "15/15 [==============================] - 0s 1ms/step - loss: 0.0658 - mean_squared_error: 0.0658 - val_loss: 0.0639 - val_mean_squared_error: 0.0639\n",
      "Epoch 17/100\n",
      "15/15 [==============================] - 0s 1ms/step - loss: 0.0612 - mean_squared_error: 0.0612 - val_loss: 0.0588 - val_mean_squared_error: 0.0588\n",
      "Epoch 18/100\n",
      "15/15 [==============================] - 0s 1ms/step - loss: 0.0575 - mean_squared_error: 0.0575 - val_loss: 0.0546 - val_mean_squared_error: 0.0546\n",
      "Epoch 19/100\n",
      "15/15 [==============================] - 0s 2ms/step - loss: 0.0542 - mean_squared_error: 0.0542 - val_loss: 0.0512 - val_mean_squared_error: 0.0512\n",
      "Epoch 20/100\n",
      "15/15 [==============================] - 0s 1ms/step - loss: 0.0514 - mean_squared_error: 0.0514 - val_loss: 0.0479 - val_mean_squared_error: 0.0479\n",
      "Epoch 21/100\n",
      "15/15 [==============================] - 0s 1ms/step - loss: 0.0487 - mean_squared_error: 0.0487 - val_loss: 0.0451 - val_mean_squared_error: 0.0451\n",
      "Epoch 22/100\n",
      "15/15 [==============================] - 0s 2ms/step - loss: 0.0462 - mean_squared_error: 0.0462 - val_loss: 0.0425 - val_mean_squared_error: 0.0425\n",
      "Epoch 23/100\n",
      "15/15 [==============================] - 0s 1ms/step - loss: 0.0436 - mean_squared_error: 0.0436 - val_loss: 0.0402 - val_mean_squared_error: 0.0402\n",
      "Epoch 24/100\n",
      "15/15 [==============================] - 0s 1ms/step - loss: 0.0400 - mean_squared_error: 0.0400 - val_loss: 0.0374 - val_mean_squared_error: 0.0374\n",
      "Epoch 25/100\n",
      "15/15 [==============================] - 0s 1ms/step - loss: 0.0350 - mean_squared_error: 0.0350 - val_loss: 0.0334 - val_mean_squared_error: 0.0334\n",
      "Epoch 26/100\n",
      "15/15 [==============================] - 0s 2ms/step - loss: 0.0304 - mean_squared_error: 0.0304 - val_loss: 0.0303 - val_mean_squared_error: 0.0303\n",
      "Epoch 27/100\n",
      "15/15 [==============================] - 0s 2ms/step - loss: 0.0280 - mean_squared_error: 0.0280 - val_loss: 0.0274 - val_mean_squared_error: 0.0274\n",
      "Epoch 28/100\n",
      "15/15 [==============================] - 0s 1ms/step - loss: 0.0260 - mean_squared_error: 0.0260 - val_loss: 0.0252 - val_mean_squared_error: 0.0252\n",
      "Epoch 29/100\n",
      "15/15 [==============================] - 0s 1ms/step - loss: 0.0244 - mean_squared_error: 0.0244 - val_loss: 0.0237 - val_mean_squared_error: 0.0237\n",
      "Epoch 30/100\n",
      "15/15 [==============================] - 0s 1ms/step - loss: 0.0230 - mean_squared_error: 0.0230 - val_loss: 0.0226 - val_mean_squared_error: 0.0226\n",
      "Epoch 31/100\n",
      "15/15 [==============================] - 0s 1ms/step - loss: 0.0220 - mean_squared_error: 0.0220 - val_loss: 0.0216 - val_mean_squared_error: 0.0216\n",
      "Epoch 32/100\n",
      "15/15 [==============================] - 0s 1ms/step - loss: 0.0210 - mean_squared_error: 0.0210 - val_loss: 0.0207 - val_mean_squared_error: 0.0207\n",
      "Epoch 33/100\n",
      "15/15 [==============================] - 0s 1ms/step - loss: 0.0200 - mean_squared_error: 0.0200 - val_loss: 0.0200 - val_mean_squared_error: 0.0200\n",
      "Epoch 34/100\n",
      "15/15 [==============================] - 0s 2ms/step - loss: 0.0192 - mean_squared_error: 0.0192 - val_loss: 0.0192 - val_mean_squared_error: 0.0192\n",
      "Epoch 35/100\n",
      "15/15 [==============================] - 0s 1ms/step - loss: 0.0184 - mean_squared_error: 0.0184 - val_loss: 0.0186 - val_mean_squared_error: 0.0186\n",
      "Epoch 36/100\n",
      "15/15 [==============================] - 0s 1ms/step - loss: 0.0177 - mean_squared_error: 0.0177 - val_loss: 0.0179 - val_mean_squared_error: 0.0179\n",
      "Epoch 37/100\n",
      "15/15 [==============================] - 0s 1ms/step - loss: 0.0171 - mean_squared_error: 0.0171 - val_loss: 0.0174 - val_mean_squared_error: 0.0174\n",
      "Epoch 38/100\n",
      "15/15 [==============================] - 0s 2ms/step - loss: 0.0165 - mean_squared_error: 0.0165 - val_loss: 0.0168 - val_mean_squared_error: 0.0168\n",
      "Epoch 39/100\n",
      "15/15 [==============================] - 0s 1ms/step - loss: 0.0159 - mean_squared_error: 0.0159 - val_loss: 0.0163 - val_mean_squared_error: 0.0163\n",
      "Epoch 40/100\n",
      "15/15 [==============================] - 0s 1ms/step - loss: 0.0153 - mean_squared_error: 0.0153 - val_loss: 0.0159 - val_mean_squared_error: 0.0159\n",
      "Epoch 41/100\n",
      "15/15 [==============================] - 0s 1ms/step - loss: 0.0148 - mean_squared_error: 0.0148 - val_loss: 0.0156 - val_mean_squared_error: 0.0156\n",
      "Epoch 42/100\n",
      "15/15 [==============================] - 0s 2ms/step - loss: 0.0143 - mean_squared_error: 0.0143 - val_loss: 0.0151 - val_mean_squared_error: 0.0151\n",
      "Epoch 43/100\n",
      "15/15 [==============================] - 0s 1ms/step - loss: 0.0138 - mean_squared_error: 0.0138 - val_loss: 0.0147 - val_mean_squared_error: 0.0147\n",
      "Epoch 44/100\n",
      "15/15 [==============================] - 0s 1ms/step - loss: 0.0134 - mean_squared_error: 0.0134 - val_loss: 0.0145 - val_mean_squared_error: 0.0145\n",
      "Epoch 45/100\n",
      "15/15 [==============================] - 0s 1ms/step - loss: 0.0130 - mean_squared_error: 0.0130 - val_loss: 0.0140 - val_mean_squared_error: 0.0140\n",
      "Epoch 46/100\n",
      "15/15 [==============================] - 0s 1ms/step - loss: 0.0126 - mean_squared_error: 0.0126 - val_loss: 0.0135 - val_mean_squared_error: 0.0135\n",
      "Epoch 47/100\n",
      "15/15 [==============================] - 0s 1ms/step - loss: 0.0122 - mean_squared_error: 0.0122 - val_loss: 0.0133 - val_mean_squared_error: 0.0133\n",
      "Epoch 48/100\n",
      "15/15 [==============================] - 0s 1ms/step - loss: 0.0118 - mean_squared_error: 0.0118 - val_loss: 0.0128 - val_mean_squared_error: 0.0128\n",
      "Epoch 49/100\n",
      "15/15 [==============================] - 0s 1ms/step - loss: 0.0115 - mean_squared_error: 0.0115 - val_loss: 0.0126 - val_mean_squared_error: 0.0126\n",
      "Epoch 50/100\n",
      "15/15 [==============================] - 0s 1ms/step - loss: 0.0112 - mean_squared_error: 0.0112 - val_loss: 0.0122 - val_mean_squared_error: 0.0122\n",
      "Epoch 51/100\n"
     ]
    },
    {
     "name": "stdout",
     "output_type": "stream",
     "text": [
      "15/15 [==============================] - 0s 1ms/step - loss: 0.0109 - mean_squared_error: 0.0109 - val_loss: 0.0119 - val_mean_squared_error: 0.0119\n",
      "Epoch 52/100\n",
      "15/15 [==============================] - 0s 1ms/step - loss: 0.0106 - mean_squared_error: 0.0106 - val_loss: 0.0117 - val_mean_squared_error: 0.0117\n",
      "Epoch 53/100\n",
      "15/15 [==============================] - 0s 1ms/step - loss: 0.0103 - mean_squared_error: 0.0103 - val_loss: 0.0114 - val_mean_squared_error: 0.0114\n",
      "Epoch 54/100\n",
      "15/15 [==============================] - 0s 2ms/step - loss: 0.0100 - mean_squared_error: 0.0100 - val_loss: 0.0112 - val_mean_squared_error: 0.0112\n",
      "Epoch 55/100\n",
      "15/15 [==============================] - 0s 1ms/step - loss: 0.0097 - mean_squared_error: 0.0097 - val_loss: 0.0109 - val_mean_squared_error: 0.0109\n",
      "Epoch 56/100\n",
      "15/15 [==============================] - 0s 1ms/step - loss: 0.0095 - mean_squared_error: 0.0095 - val_loss: 0.0106 - val_mean_squared_error: 0.0106\n",
      "Epoch 57/100\n",
      "15/15 [==============================] - 0s 1ms/step - loss: 0.0093 - mean_squared_error: 0.0093 - val_loss: 0.0104 - val_mean_squared_error: 0.0104\n",
      "Epoch 58/100\n",
      "15/15 [==============================] - 0s 1ms/step - loss: 0.0090 - mean_squared_error: 0.0090 - val_loss: 0.0102 - val_mean_squared_error: 0.0102\n",
      "Epoch 59/100\n",
      "15/15 [==============================] - 0s 1ms/step - loss: 0.0088 - mean_squared_error: 0.0088 - val_loss: 0.0099 - val_mean_squared_error: 0.0099\n",
      "Epoch 60/100\n",
      "15/15 [==============================] - 0s 1ms/step - loss: 0.0086 - mean_squared_error: 0.0086 - val_loss: 0.0096 - val_mean_squared_error: 0.0096\n",
      "Epoch 61/100\n",
      "15/15 [==============================] - 0s 2ms/step - loss: 0.0084 - mean_squared_error: 0.0084 - val_loss: 0.0094 - val_mean_squared_error: 0.0094\n",
      "Epoch 62/100\n",
      "15/15 [==============================] - 0s 2ms/step - loss: 0.0082 - mean_squared_error: 0.0082 - val_loss: 0.0092 - val_mean_squared_error: 0.0092\n",
      "Epoch 63/100\n",
      "15/15 [==============================] - 0s 1ms/step - loss: 0.0080 - mean_squared_error: 0.0080 - val_loss: 0.0090 - val_mean_squared_error: 0.0090\n",
      "Epoch 64/100\n",
      "15/15 [==============================] - 0s 1ms/step - loss: 0.0079 - mean_squared_error: 0.0079 - val_loss: 0.0088 - val_mean_squared_error: 0.0088\n",
      "Epoch 65/100\n",
      "15/15 [==============================] - 0s 1ms/step - loss: 0.0077 - mean_squared_error: 0.0077 - val_loss: 0.0087 - val_mean_squared_error: 0.0087\n",
      "Epoch 66/100\n",
      "15/15 [==============================] - 0s 1ms/step - loss: 0.0075 - mean_squared_error: 0.0075 - val_loss: 0.0085 - val_mean_squared_error: 0.0085\n",
      "Epoch 67/100\n",
      "15/15 [==============================] - 0s 1ms/step - loss: 0.0073 - mean_squared_error: 0.0073 - val_loss: 0.0082 - val_mean_squared_error: 0.0082\n",
      "Epoch 68/100\n",
      "15/15 [==============================] - 0s 1ms/step - loss: 0.0072 - mean_squared_error: 0.0072 - val_loss: 0.0081 - val_mean_squared_error: 0.0081\n",
      "Epoch 69/100\n",
      "15/15 [==============================] - 0s 1ms/step - loss: 0.0070 - mean_squared_error: 0.0070 - val_loss: 0.0079 - val_mean_squared_error: 0.0079\n",
      "Epoch 70/100\n",
      "15/15 [==============================] - 0s 1ms/step - loss: 0.0069 - mean_squared_error: 0.0069 - val_loss: 0.0077 - val_mean_squared_error: 0.0077\n",
      "Epoch 71/100\n",
      "15/15 [==============================] - 0s 1ms/step - loss: 0.0068 - mean_squared_error: 0.0068 - val_loss: 0.0076 - val_mean_squared_error: 0.0076\n",
      "Epoch 72/100\n",
      "15/15 [==============================] - 0s 1ms/step - loss: 0.0066 - mean_squared_error: 0.0066 - val_loss: 0.0074 - val_mean_squared_error: 0.0074\n",
      "Epoch 73/100\n",
      "15/15 [==============================] - 0s 1ms/step - loss: 0.0065 - mean_squared_error: 0.0065 - val_loss: 0.0074 - val_mean_squared_error: 0.0074\n",
      "Epoch 74/100\n",
      "15/15 [==============================] - 0s 1ms/step - loss: 0.0064 - mean_squared_error: 0.0064 - val_loss: 0.0072 - val_mean_squared_error: 0.0072\n",
      "Epoch 75/100\n",
      "15/15 [==============================] - 0s 1ms/step - loss: 0.0062 - mean_squared_error: 0.0062 - val_loss: 0.0070 - val_mean_squared_error: 0.0070\n",
      "Epoch 76/100\n",
      "15/15 [==============================] - 0s 1ms/step - loss: 0.0061 - mean_squared_error: 0.0061 - val_loss: 0.0069 - val_mean_squared_error: 0.0069\n",
      "Epoch 77/100\n",
      "15/15 [==============================] - 0s 1ms/step - loss: 0.0060 - mean_squared_error: 0.0060 - val_loss: 0.0068 - val_mean_squared_error: 0.0068\n",
      "Epoch 78/100\n",
      "15/15 [==============================] - 0s 2ms/step - loss: 0.0059 - mean_squared_error: 0.0059 - val_loss: 0.0067 - val_mean_squared_error: 0.0067\n",
      "Epoch 79/100\n",
      "15/15 [==============================] - 0s 2ms/step - loss: 0.0058 - mean_squared_error: 0.0058 - val_loss: 0.0065 - val_mean_squared_error: 0.0065\n",
      "Epoch 80/100\n",
      "15/15 [==============================] - 0s 1ms/step - loss: 0.0057 - mean_squared_error: 0.0057 - val_loss: 0.0064 - val_mean_squared_error: 0.0064\n",
      "Epoch 81/100\n",
      "15/15 [==============================] - 0s 1ms/step - loss: 0.0056 - mean_squared_error: 0.0056 - val_loss: 0.0063 - val_mean_squared_error: 0.0063\n",
      "Epoch 82/100\n",
      "15/15 [==============================] - 0s 1ms/step - loss: 0.0055 - mean_squared_error: 0.0055 - val_loss: 0.0062 - val_mean_squared_error: 0.0062\n",
      "Epoch 83/100\n",
      "15/15 [==============================] - 0s 1ms/step - loss: 0.0054 - mean_squared_error: 0.0054 - val_loss: 0.0062 - val_mean_squared_error: 0.0062\n",
      "Epoch 84/100\n",
      "15/15 [==============================] - 0s 1ms/step - loss: 0.0053 - mean_squared_error: 0.0053 - val_loss: 0.0061 - val_mean_squared_error: 0.0061\n",
      "Epoch 85/100\n",
      "15/15 [==============================] - 0s 1ms/step - loss: 0.0052 - mean_squared_error: 0.0052 - val_loss: 0.0060 - val_mean_squared_error: 0.0060\n",
      "Epoch 86/100\n",
      "15/15 [==============================] - 0s 1ms/step - loss: 0.0051 - mean_squared_error: 0.0051 - val_loss: 0.0058 - val_mean_squared_error: 0.0058\n",
      "Epoch 87/100\n",
      "15/15 [==============================] - 0s 1ms/step - loss: 0.0050 - mean_squared_error: 0.0050 - val_loss: 0.0057 - val_mean_squared_error: 0.0057\n",
      "Epoch 88/100\n",
      "15/15 [==============================] - 0s 2ms/step - loss: 0.0049 - mean_squared_error: 0.0049 - val_loss: 0.0056 - val_mean_squared_error: 0.0056\n",
      "Epoch 89/100\n",
      "15/15 [==============================] - 0s 1ms/step - loss: 0.0048 - mean_squared_error: 0.0048 - val_loss: 0.0055 - val_mean_squared_error: 0.0055\n",
      "Epoch 90/100\n",
      "15/15 [==============================] - 0s 1ms/step - loss: 0.0048 - mean_squared_error: 0.0048 - val_loss: 0.0054 - val_mean_squared_error: 0.0054\n",
      "Epoch 91/100\n",
      "15/15 [==============================] - 0s 1ms/step - loss: 0.0047 - mean_squared_error: 0.0047 - val_loss: 0.0053 - val_mean_squared_error: 0.0053\n",
      "Epoch 92/100\n",
      "15/15 [==============================] - 0s 1ms/step - loss: 0.0046 - mean_squared_error: 0.0046 - val_loss: 0.0052 - val_mean_squared_error: 0.0052\n",
      "Epoch 93/100\n",
      "15/15 [==============================] - 0s 1ms/step - loss: 0.0045 - mean_squared_error: 0.0045 - val_loss: 0.0051 - val_mean_squared_error: 0.0051\n",
      "Epoch 94/100\n",
      "15/15 [==============================] - 0s 1ms/step - loss: 0.0045 - mean_squared_error: 0.0045 - val_loss: 0.0050 - val_mean_squared_error: 0.0050\n",
      "Epoch 95/100\n",
      "15/15 [==============================] - 0s 1ms/step - loss: 0.0044 - mean_squared_error: 0.0044 - val_loss: 0.0050 - val_mean_squared_error: 0.0050\n",
      "Epoch 96/100\n",
      "15/15 [==============================] - 0s 1ms/step - loss: 0.0043 - mean_squared_error: 0.0043 - val_loss: 0.0050 - val_mean_squared_error: 0.0050\n",
      "Epoch 97/100\n",
      "15/15 [==============================] - 0s 1ms/step - loss: 0.0042 - mean_squared_error: 0.0042 - val_loss: 0.0049 - val_mean_squared_error: 0.0049\n",
      "Epoch 98/100\n",
      "15/15 [==============================] - 0s 1ms/step - loss: 0.0042 - mean_squared_error: 0.0042 - val_loss: 0.0048 - val_mean_squared_error: 0.0048\n",
      "Epoch 99/100\n",
      "15/15 [==============================] - 0s 2ms/step - loss: 0.0041 - mean_squared_error: 0.0041 - val_loss: 0.0046 - val_mean_squared_error: 0.0046\n",
      "Epoch 100/100\n",
      "15/15 [==============================] - 0s 1ms/step - loss: 0.0040 - mean_squared_error: 0.0040 - val_loss: 0.0046 - val_mean_squared_error: 0.0046\n"
     ]
    }
   ],
   "source": [
    "print(\"Fit model on training data\")\n",
    "history = model.fit(\n",
    "    x_train,\n",
    "    y_train,\n",
    "    batch_size=64,\n",
    "    epochs=100,\n",
    "    # We pass some validation for\n",
    "    # monitoring validation loss and metrics\n",
    "    # at the end of each epoch\n",
    "    validation_data=(x_val, y_val),\n",
    ")"
   ]
  },
  {
   "cell_type": "code",
   "execution_count": 12,
   "metadata": {},
   "outputs": [],
   "source": [
    "history.history\n",
    "epochs = history.epoch\n",
    "hist = pd.DataFrame(history.history)\n",
    "mse = hist[\"mean_squared_error\"]"
   ]
  },
  {
   "cell_type": "code",
   "execution_count": 13,
   "metadata": {},
   "outputs": [],
   "source": [
    "def plot_the_loss_curve(epochs, mse):\n",
    "    \"\"\"Plot a curve of loss vs. epoch.\"\"\"\n",
    "\n",
    "    plt.figure()\n",
    "    plt.xlabel(\"Epoch\")\n",
    "    plt.ylabel(\"Mean Squared Error\")\n",
    "\n",
    "    plt.plot(epochs, mse, label=\"Loss\")\n",
    "    plt.legend()\n",
    "    plt.ylim([mse.min()*0.95, mse.max() * 1.03])\n",
    "    plt.show()  \n",
    "\n",
    "    print(\"Defined the plot_the_loss_curve function.\")"
   ]
  },
  {
   "cell_type": "code",
   "execution_count": 14,
   "metadata": {},
   "outputs": [
    {
     "data": {
      "image/png": "[encoded data removed]",
      "text/plain": [
       "<Figure size 432x288 with 1 Axes>"
      ]
     },
     "metadata": {
      "needs_background": "light"
     },
     "output_type": "display_data"
    },
    {
     "name": "stdout",
     "output_type": "stream",
     "text": [
      "Defined the plot_the_loss_curve function.\n"
     ]
    }
   ],
   "source": [
    "plot_the_loss_curve(epochs, mse)"
   ]
  },
  {
   "cell_type": "code",
   "execution_count": 15,
   "metadata": {},
   "outputs": [
    {
     "name": "stdout",
     "output_type": "stream",
     "text": [
      "[0.33972445 0.7058448  0.47569805 0.         0.60056055 0.6857699\n",
      " 0.5904247  0.        ]\n",
      "[0.4        0.675      0.525      0.         0.68333333 0.65833333\n",
      " 0.59166667 0.        ]\n",
      "[0.80014825 0.         0.32680786 0.71182406 0.836661   0.\n",
      " 0.         0.31261617]\n",
      "[0.75833333 0.         0.45833333 0.84166667 0.725      0.\n",
      " 0.         0.26666667]\n",
      "[0.4095822  0.         0.         0.52577066 0.49619555 0.5684635\n",
      " 0.7301319  0.        ]\n",
      "[0.43333333 0.         0.         0.51666667 0.28333333 0.5\n",
      " 0.91666667 0.        ]\n",
      "[0.         0.38508952 0.47155017 0.         0.49679327 0.7315061\n",
      " 0.42945513 0.66293865]\n",
      "[0.         0.38333333 0.5        0.         0.60833333 0.775\n",
      " 0.51666667 0.54166667]\n",
      "[0.63482815 0.         0.48090446 0.50399816 0.         0.6497169\n",
      " 0.60316545 0.        ]\n",
      "[0.73333333 0.         0.39166667 0.55       0.         0.725\n",
      " 0.41666667 0.        ]\n",
      "[0.         0.44542557 0.         0.49214795 0.63650274 0.69271076\n",
      " 0.48256725 0.        ]\n",
      "[0.         0.44166667 0.         0.4        0.64166667 0.70833333\n",
      " 0.46666667 0.        ]\n",
      "[0.49369568 0.65500396 0.62375575 0.5407733  0.         0.\n",
      " 0.64401317 0.        ]\n",
      "[0.36666667 0.63333333 0.50833333 0.475      0.         0.\n",
      " 0.58333333 0.        ]\n",
      "[0.         0.5286231  0.         0.         0.5966207  0.4030702\n",
      " 0.56704843 0.5637368 ]\n",
      "[0.         0.44166667 0.         0.         0.6        0.28333333\n",
      " 0.58333333 0.74166667]\n",
      "[0.60350925 0.13521925 0.47378528 0.         0.64254713 0.45307273\n",
      " 0.6497647  0.        ]\n",
      "[0.625      0.18333333 0.43333333 0.         0.575      0.4\n",
      " 0.675      0.        ]\n",
      "[0.         0.7375824  0.         0.         0.52044374 0.6478583\n",
      " 0.80326533 0.5096984 ]\n",
      "[0.         0.75833333 0.         0.         0.48333333 0.59166667\n",
      " 0.75       0.46666667]\n"
     ]
    }
   ],
   "source": [
    "predictions = model.predict(x_train[:10])\n",
    "for i in range(10):\n",
    "    print(predictions[i])\n",
    "    print(y_train[i])"
   ]
  },
  {
   "cell_type": "code",
   "execution_count": 16,
   "metadata": {},
   "outputs": [],
   "source": [
    "model.save(\"gradeModel.h5\")"
   ]
  },
  {
   "cell_type": "code",
   "execution_count": 17,
   "metadata": {},
   "outputs": [
    {
     "name": "stdout",
     "output_type": "stream",
     "text": [
      "WARNING:tensorflow:From C:\\Users\\leeji\\AppData\\Local\\Packages\\PythonSoftwareFoundation.Python.3.8_qbz5n2kfra8p0\\LocalCache\\local-packages\\Python38\\site-packages\\tensorflow\\python\\training\\tracking\\tracking.py:111: Model.state_updates (from tensorflow.python.keras.engine.training) is deprecated and will be removed in a future version.\n",
      "Instructions for updating:\n",
      "This property should not be used in TensorFlow 2.0, as updates are applied automatically.\n",
      "WARNING:tensorflow:From C:\\Users\\leeji\\AppData\\Local\\Packages\\PythonSoftwareFoundation.Python.3.8_qbz5n2kfra8p0\\LocalCache\\local-packages\\Python38\\site-packages\\tensorflow\\python\\training\\tracking\\tracking.py:111: Layer.updates (from tensorflow.python.keras.engine.base_layer) is deprecated and will be removed in a future version.\n",
      "Instructions for updating:\n",
      "This property should not be used in TensorFlow 2.0, as updates are applied automatically.\n",
      "INFO:tensorflow:Assets written to: C:\\Users\\leeji\\AppData\\Local\\Temp\\tmpolyz8ggt\\assets\n"
     ]
    }
   ],
   "source": [
    "# Convert the model.\n",
    "converter = tf.lite.TFLiteConverter.from_keras_model(model)\n",
    "tflite_model = converter.convert()\n",
    "\n",
    "# Save the model.\n",
    "with open('gradeModel.tflite', 'wb') as f:\n",
    "    f.write(tflite_model)\n"
   ]
  }
 ],
 "metadata": {
  "kernelspec": {
   "display_name": "Python 3",
   "language": "python",
   "name": "python3"
  },
  "language_info": {
   "codemirror_mode": {
    "name": "ipython",
    "version": 3
   },
   "file_extension": ".py",
   "mimetype": "text/x-python",
   "name": "python",
   "nbconvert_exporter": "python",
   "pygments_lexer": "ipython3",
   "version": "3.8.7"
  }
 },
 "nbformat": 4,
 "nbformat_minor": 4
}
